{
 "cells": [
  {
   "cell_type": "markdown",
   "id": "6c370f78",
   "metadata": {},
   "source": [
    "# Import libraries & CSV"
   ]
  },
  {
   "cell_type": "code",
   "execution_count": null,
   "id": "4ce865ab-1e98-4b98-b7db-e392f6d21cc2",
   "metadata": {},
   "outputs": [],
   "source": [
    "# source: Aurelien Geron, Hands-On Machine Learning with Scikit-Learn, Keras & TensorFlow : Concepts, Tools\n",
    "# and Techniques to Build Intelligent Systems\n",
    "import pandas as pd\n",
    "import numpy as np\n",
    "%matplotlib inline \n",
    "import matplotlib.pyplot as plt"
   ]
  },
  {
   "cell_type": "markdown",
   "id": "e5bb73ef",
   "metadata": {},
   "source": [
    "#### Variable Naming Convention/Abbreviation\n",
    "*ADS* : Assignment Data Set \\\n",
    "*Cat* : Categorical \\\n",
    "*Num* : Numerical "
   ]
  },
  {
   "cell_type": "markdown",
   "id": "698a8cd9",
   "metadata": {},
   "source": [
    "# Read CSV"
   ]
  },
  {
   "cell_type": "code",
   "execution_count": null,
   "id": "d98450bc-f893-460c-ba72-14b287d657fe",
   "metadata": {},
   "outputs": [],
   "source": [
    "ADS = pd.read_csv(\"dataset.csv\")"
   ]
  },
  {
   "cell_type": "code",
   "execution_count": 95,
   "id": "2977ef64-43f6-4091-8ee9-b238395355a2",
   "metadata": {},
   "outputs": [
    {
     "data": {
      "text/html": [
       "<div>\n",
       "<style scoped>\n",
       "    .dataframe tbody tr th:only-of-type {\n",
       "        vertical-align: middle;\n",
       "    }\n",
       "\n",
       "    .dataframe tbody tr th {\n",
       "        vertical-align: top;\n",
       "    }\n",
       "\n",
       "    .dataframe thead th {\n",
       "        text-align: right;\n",
       "    }\n",
       "</style>\n",
       "<table border=\"1\" class=\"dataframe\">\n",
       "  <thead>\n",
       "    <tr style=\"text-align: right;\">\n",
       "      <th></th>\n",
       "      <th>Gender</th>\n",
       "      <th>Age</th>\n",
       "      <th>Height(cm)</th>\n",
       "      <th>Weight(kg)</th>\n",
       "      <th>Family_history</th>\n",
       "      <th>Alcohol</th>\n",
       "      <th>Junk_food</th>\n",
       "      <th>Vege_day</th>\n",
       "      <th>Meals_day</th>\n",
       "      <th>Snack</th>\n",
       "      <th>Smoking</th>\n",
       "      <th>Water_intake(L)</th>\n",
       "      <th>Transportation</th>\n",
       "      <th>Exercise</th>\n",
       "      <th>TV</th>\n",
       "      <th>Income</th>\n",
       "      <th>Discipline</th>\n",
       "      <th>Cardiovascular_risk(y)</th>\n",
       "    </tr>\n",
       "  </thead>\n",
       "  <tbody>\n",
       "    <tr>\n",
       "      <th>2097</th>\n",
       "      <td>Male</td>\n",
       "      <td>19</td>\n",
       "      <td>176.0</td>\n",
       "      <td>79.0</td>\n",
       "      <td>yes</td>\n",
       "      <td>medium</td>\n",
       "      <td>yes</td>\n",
       "      <td>2</td>\n",
       "      <td>3</td>\n",
       "      <td>Frequently</td>\n",
       "      <td>no</td>\n",
       "      <td>3.00</td>\n",
       "      <td>bus</td>\n",
       "      <td>1</td>\n",
       "      <td>often</td>\n",
       "      <td>4347</td>\n",
       "      <td>no</td>\n",
       "      <td>medium</td>\n",
       "    </tr>\n",
       "    <tr>\n",
       "      <th>2098</th>\n",
       "      <td>Male</td>\n",
       "      <td>22</td>\n",
       "      <td>170.0</td>\n",
       "      <td>95.6</td>\n",
       "      <td>yes</td>\n",
       "      <td>none</td>\n",
       "      <td>yes</td>\n",
       "      <td>2</td>\n",
       "      <td>3</td>\n",
       "      <td>Sometimes</td>\n",
       "      <td>no</td>\n",
       "      <td>2.00</td>\n",
       "      <td>bus</td>\n",
       "      <td>0</td>\n",
       "      <td>rare</td>\n",
       "      <td>1376</td>\n",
       "      <td>no</td>\n",
       "      <td>high</td>\n",
       "    </tr>\n",
       "    <tr>\n",
       "      <th>2099</th>\n",
       "      <td>Female</td>\n",
       "      <td>37</td>\n",
       "      <td>166.7</td>\n",
       "      <td>81.0</td>\n",
       "      <td>yes</td>\n",
       "      <td>none</td>\n",
       "      <td>yes</td>\n",
       "      <td>2</td>\n",
       "      <td>3</td>\n",
       "      <td>Sometimes</td>\n",
       "      <td>no</td>\n",
       "      <td>1.65</td>\n",
       "      <td>car</td>\n",
       "      <td>0</td>\n",
       "      <td>moderate</td>\n",
       "      <td>9051</td>\n",
       "      <td>no</td>\n",
       "      <td>medium</td>\n",
       "    </tr>\n",
       "  </tbody>\n",
       "</table>\n",
       "</div>"
      ],
      "text/plain": [
       "      Gender  Age  Height(cm)  Weight(kg) Family_history Alcohol Junk_food  \\\n",
       "2097    Male   19       176.0        79.0            yes  medium       yes   \n",
       "2098    Male   22       170.0        95.6            yes    none       yes   \n",
       "2099  Female   37       166.7        81.0            yes    none       yes   \n",
       "\n",
       "      Vege_day  Meals_day       Snack Smoking  Water_intake(L) Transportation  \\\n",
       "2097         2          3  Frequently      no             3.00            bus   \n",
       "2098         2          3   Sometimes      no             2.00            bus   \n",
       "2099         2          3   Sometimes      no             1.65            car   \n",
       "\n",
       "      Exercise        TV  Income Discipline Cardiovascular_risk(y)  \n",
       "2097         1     often    4347         no                 medium  \n",
       "2098         0      rare    1376         no                   high  \n",
       "2099         0  moderate    9051         no                 medium  "
      ]
     },
     "execution_count": 95,
     "metadata": {},
     "output_type": "execute_result"
    }
   ],
   "source": [
    "ADS.tail(3)"
   ]
  },
  {
   "cell_type": "markdown",
   "id": "79724f21",
   "metadata": {},
   "source": [
    "# Overview of Dataset"
   ]
  },
  {
   "cell_type": "code",
   "execution_count": null,
   "id": "71d4ce7c-314a-4fbe-a300-f46e27e272ec",
   "metadata": {},
   "outputs": [],
   "source": [
    "ADS.info()"
   ]
  },
  {
   "cell_type": "code",
   "execution_count": null,
   "id": "fade253c",
   "metadata": {},
   "outputs": [],
   "source": [
    "ADS.dtypes"
   ]
  },
  {
   "cell_type": "markdown",
   "id": "8778e533",
   "metadata": {},
   "source": [
    "#### Check for null values in Dataset\n",
    "Finding:\n",
    "There are no missing values"
   ]
  },
  {
   "cell_type": "code",
   "execution_count": null,
   "id": "9e8557a8-1824-4625-893f-ff87b426fdd2",
   "metadata": {},
   "outputs": [],
   "source": [
    "ADS.isnull().any()"
   ]
  },
  {
   "cell_type": "markdown",
   "id": "1de026ff",
   "metadata": {},
   "source": [
    "# Check the qualitative data for each object data type\n",
    "This can be helpful in validating the total column in training dataset after these values are encoded"
   ]
  },
  {
   "cell_type": "code",
   "execution_count": null,
   "id": "b9b62164",
   "metadata": {},
   "outputs": [],
   "source": [
    "print(\"Number of unique entry for each attribute:\")\n",
    "print('Col 1. ',ADS['Gender'].nunique())\n",
    "print('Col 2. ',ADS['Family_history'].nunique())\n",
    "print('Col 3. ',ADS['Alcohol'].nunique())\n",
    "print('Col 4. ',ADS['Junk_food'].nunique())\n",
    "print('Col 5. ',ADS['Snack'].nunique())\n",
    "print('Col 6. ',ADS['Smoking'].nunique())\n",
    "print('Col 7. ',ADS['Transportation'].nunique())\n",
    "print('Col 8. ',ADS['TV'].nunique())\n",
    "print('Col 9. ',ADS['Discipline'].nunique())\n",
    "print('Col 10. ',ADS['Cardiovascular_risk(y)'].nunique())\n"
   ]
  },
  {
   "cell_type": "markdown",
   "id": "d8b78172",
   "metadata": {},
   "source": [
    "### Separate input from output"
   ]
  },
  {
   "cell_type": "code",
   "execution_count": 144,
   "id": "b28e2479",
   "metadata": {},
   "outputs": [
    {
     "name": "stdout",
     "output_type": "stream",
     "text": [
      "Input Shape : (2100, 17)\n",
      "\n",
      "Input Data types:\n",
      " Gender              object\n",
      "Age                  int64\n",
      "Height(cm)         float64\n",
      "Weight(kg)         float64\n",
      "Family_history      object\n",
      "Alcohol             object\n",
      "Junk_food           object\n",
      "Vege_day             int64\n",
      "Meals_day            int64\n",
      "Snack               object\n",
      "Smoking             object\n",
      "Water_intake(L)    float64\n",
      "Transportation      object\n",
      "Exercise             int64\n",
      "TV                  object\n",
      "Income               int64\n",
      "Discipline          object\n",
      "dtype: object\n"
     ]
    }
   ],
   "source": [
    "ADS_input = ADS.drop('Cardiovascular_risk(y)', axis = 1)\n",
    "print(\"Input Shape :\" ,ADS_input.shape)\n",
    "print(\"\\nInput Data types:\\n\",ADS_input.dtypes)"
   ]
  },
  {
   "cell_type": "code",
   "execution_count": 147,
   "id": "bc118ae8",
   "metadata": {},
   "outputs": [
    {
     "name": "stdout",
     "output_type": "stream",
     "text": [
      "Output Shape : (2100,)\n",
      "\n",
      "Output datatype:\n",
      " object\n"
     ]
    }
   ],
   "source": [
    "ADS_output = ADS['Cardiovascular_risk(y)']\n",
    "print(\"Output Shape :\" ,ADS_output.shape)\n",
    "print(\"\\nOutput datatype:\\n\" ,ADS_output.dtypes)"
   ]
  },
  {
   "cell_type": "markdown",
   "id": "584416fc",
   "metadata": {},
   "source": [
    "# Preprocessing\n",
    "### Training and Testing\n"
   ]
  },
  {
   "cell_type": "code",
   "execution_count": 143,
   "id": "2e8cc601",
   "metadata": {},
   "outputs": [
    {
     "name": "stdout",
     "output_type": "stream",
     "text": [
      "in_train : (1680, 17)\n",
      "in_test : (420, 17)\n",
      "out_train : (1680,)\n",
      "out_test : (420,)\n"
     ]
    }
   ],
   "source": [
    "from sklearn.model_selection import train_test_split\n",
    "in_train, in_test, out_train, out_test = train_test_split(ADS_input, ADS_output, test_size=0.2,random_state=30)\n",
    "print(\"in_train :\", in_train.shape)\n",
    "print(\"in_test :\", in_test.shape)\n",
    "print(\"out_train :\", out_train.shape)\n",
    "print(\"out_test :\", out_test.shape)"
   ]
  },
  {
   "cell_type": "markdown",
   "id": "594e936d",
   "metadata": {},
   "source": [
    "### Separating Category and Numeric"
   ]
  },
  {
   "cell_type": "code",
   "execution_count": null,
   "id": "775c28f0",
   "metadata": {},
   "outputs": [],
   "source": [
    "in_train_Num = in_train.drop(columns = ['Gender','Family_history','Alcohol','Junk_food','Snack',\n",
    "                                               'Smoking','Transportation','TV','Discipline'], inplace= False)\n",
    "in_train_Cat = in_train[['Gender','Family_history','Alcohol','Junk_food','Snack',\n",
    "                                               'Smoking','Transportation','TV','Discipline']]"
   ]
  },
  {
   "cell_type": "markdown",
   "id": "9ae659ef",
   "metadata": {},
   "source": [
    "### Visualize Numerical Datas"
   ]
  },
  {
   "cell_type": "code",
   "execution_count": null,
   "id": "83cddacb",
   "metadata": {},
   "outputs": [],
   "source": [
    "fs = plt.figure(figsize=(10,10))\n",
    "ax = fs.gca()\n",
    "in_train_Num.hist(bins = 20, ax = ax, grid= False, edgecolor='black', facecolor= 'xkcd:salmon')\n",
    "plt.show()"
   ]
  },
  {
   "cell_type": "markdown",
   "id": "37f7c18b",
   "metadata": {},
   "source": [
    "### Standardize data\n",
    "\n",
    "For numerical\n"
   ]
  },
  {
   "cell_type": "code",
   "execution_count": null,
   "id": "86b03026",
   "metadata": {},
   "outputs": [],
   "source": [
    "from sklearn.preprocessing import StandardScaler\n",
    "scaler = StandardScaler()\n",
    "in_train_Num_scaled = scaler.fit_transform(in_train_Num)"
   ]
  },
  {
   "cell_type": "markdown",
   "id": "d72464cc",
   "metadata": {},
   "source": [
    "For categorical,\\\n",
    "*Label Binarizer* and *Ordinal Encoder* does not apply"
   ]
  },
  {
   "cell_type": "code",
   "execution_count": 135,
   "id": "37292507",
   "metadata": {},
   "outputs": [],
   "source": [
    "from sklearn.preprocessing import OneHotEncoder\n",
    "encoder = OneHotEncoder()\n",
    "in_train_Cat_Encoded = encoder.fit_transform(in_train_Cat)\n",
    "x = [iter for iter in range(10,36)]\n",
    "in_train_Cat_Encoded = pd.DataFrame(in_train_Cat_Encoded.toarray(), columns= x)"
   ]
  },
  {
   "cell_type": "markdown",
   "id": "4780d4fc",
   "metadata": {},
   "source": [
    "### Check encoded categorical values"
   ]
  },
  {
   "cell_type": "code",
   "execution_count": null,
   "metadata": {},
   "outputs": [],
   "source": [
    "in_train_Cat_Encoded"
   ]
  },
  {
   "cell_type": "markdown",
   "id": "bf74090b",
   "metadata": {},
   "source": [
    "Combining Categorical and Numerical datas"
   ]
  },
  {
   "cell_type": "code",
   "execution_count": 140,
   "id": "f6b1f672",
   "metadata": {},
   "outputs": [
    {
     "name": "stdout",
     "output_type": "stream",
     "text": [
      "Shape of final set (rows, columns) :  (1680, 34)\n"
     ]
    }
   ],
   "source": [
    "in_train_complete = np.hstack([in_train_Num_scaled, in_train_Cat_Encoded])\n",
    "print(\"Shape of final set (rows, columns) : \", in_train_complete.shape)"
   ]
  },
  {
   "cell_type": "markdown",
   "id": "d6c16e4b",
   "metadata": {},
   "source": [
    "# Voila, Done Preprocessing \n",
    "#### Footnote (When training your model) #by Bester\n",
    "From split result of `in_train` produces \n",
    "1. `in_train_Num`\n",
    "2. `in_train_Cat`\n",
    "\n",
    "(Check for any mistake)\n",
    "\n",
    "The final training set will be `in_train_complete`\\\n"
   ]
  },
  {
   "cell_type": "markdown",
   "id": "b0c9677e",
   "metadata": {},
   "source": [
    "# References\n",
    "\n",
    "1. [Category data](https://www.datacamp.com/tutorial/categorical-data )\n",
    "2. [Counting unique values in a column in pandas dataframe like in Qlik?](https://stackoverflow.com/questions/45759966/counting-unique-values-in-a-column-in-pandas-dataframe-like-in-qlik)\n",
    "3. [Dataframe Drop Column in Pandas – How to Remove Columns from Dataframes](https://www.freecodecamp.org/news/dataframe-drop-column-in-pandas-how-to-remove-columns-from-dataframes/)\n",
    "4. [How to Change the Figure Size of a Pandas Histogram](https://www.statology.org/pandas-histogram-size/)\n",
    "5. [Specifying Colors](https://matplotlib.org/3.1.1/tutorials/colors/colors.html)\n",
    "6. [How to perform one hot encoding on multiple categorical columns](https://datascience.stackexchange.com/questions/71804/how-to-perform-one-hot-encoding-on-multiple-categorical-columns)"
   ]
  }
 ],
 "metadata": {
  "kernelspec": {
   "display_name": "Python 3 (ipykernel)",
   "language": "python",
   "name": "python3"
  },
  "language_info": {
   "codemirror_mode": {
    "name": "ipython",
    "version": 3
   },
   "file_extension": ".py",
   "mimetype": "text/x-python",
   "name": "python",
   "nbconvert_exporter": "python",
   "pygments_lexer": "ipython3",
   "version": "3.12.4"
  }
 },
 "nbformat": 4,
 "nbformat_minor": 5
}
